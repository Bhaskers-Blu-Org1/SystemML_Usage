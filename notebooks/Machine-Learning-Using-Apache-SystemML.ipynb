{
 "cells": [
  {
   "cell_type": "markdown",
   "metadata": {},
   "source": [
    "# Use Apache SystemML and Spark for machine learning"
   ]
  },
  {
   "cell_type": "markdown",
   "metadata": {},
   "source": [
    "This notebook introduces Apache SystemML and shows examples of running different forms of Linear Regression (Direct Solve, Batch Gradient Descent and Conjugate Gradient).  The code snippets are adapted from Apache SystemML __<a href=\"http://systemml.apache.org/get-started\" target=\"_blank\" rel=\"noopener noreferrer\">sample notebooks</a>__ and run on Python 2 with Spark 2.1.  Some familiarity with Python and machine learning algorithms is recommended.\n"
   ]
  },
  {
   "cell_type": "markdown",
   "metadata": {},
   "source": [
    "## Table of Contents"
   ]
  },
  {
   "cell_type": "markdown",
   "metadata": {},
   "source": [
    "- [Apache SystemML](#systemml)<br>\n",
    "- [Matrix multiplication](#matrix-multiply)<br>\n",
    "- [Linear regression direct solve](#direct-solve)<br>\n",
    "- [Linear regression \"out-of-the-box\"](#linear-regression)<br>\n",
    "- [Linear regression batch gradient descent](#gradient-descent)<br>\n",
    "- [Linear regression conjugate gradient](#conjugate-gradient)<br>\n",
    "- [Linear regression using mllearn interface](#linear-regression-api)<br>\n",
    "- [Learn more](#summary)"
   ]
  },
  {
   "cell_type": "markdown",
   "metadata": {},
   "source": [
    "<a id=\"systemml\"></a>\n",
    "## Apache SystemML"
   ]
  },
  {
   "cell_type": "markdown",
   "metadata": {},
   "source": [
    "#### Machine learning library for scalable distributable solution \n",
    "Apache SystemML provides an optimal workplace for machine learning using big data. It can be run on top of Apache Spark, where it automatically scales your data, line by line, determining whether your code should be run on the driver or an Apache Spark cluster. Future SystemML developments include additional deep learning with GPU capabilities such as importing and running neural network architectures and pre-trained models for training.\n",
    "\n",
    "It contains many popular machine learning algorithms (e.g., regression, clustering, classification, descriptive statistics) that can be used out-of-the-box or customized if necessary.  Algorithms are written in Python-like or R-like scripting languages intuitive to a Data Scientist familiar with Python or R.  Higher-level abstractions that encapsulate well-known algorithms are also provided for a Data Scientist to get started without needing to know the script implementation details.\n",
    "\n",
    "#### Machine learning development challenges\n",
    "Typically a Data Scientist writes and evaluates a machine learning algorithm with small data on a single machine. To apply the algorithm to big data in a clustered environment often requires an experienced Systems Engineer familiar with distributed programming.  However, an algorithm migrated to run on a large scale environment may not produce the same expected results due to problems in original algorithm or errors in converting the algorithm to run on a cluster.   Revising the algorithm ends up being an error-prone, time-consuming process since the Systems Engineer doesn't have expertise with the algorithm and the Data Scientist isn't familiar with distributed programming.\n",
    "\n",
    "#### Apache SystemML to the rescue\n",
    "Apache SystemML eliminates these algorithm development issues since it creates an optimized program that adapts to data characteristics.  A Data Scientist can focus on algorithm development and let Apache SystemML distribute processing as needed when that same algorithm is run with bigger data on larger environment.\n",
    "\n",
    "#### Ease of use\n",
    "Apache SystemML functionality can be accessed from Python, Scala and Java application programming interfaces.  Batch processing (e.g., spark-submit) is also supported.  Note Apache SystemML is a pre-installed library and available in Data Science Experience with Spark so no separate installation is required.  For example, use pip to show available version."
   ]
  },
  {
   "cell_type": "code",
   "execution_count": 1,
   "metadata": {},
   "outputs": [
    {
     "name": "stdout",
     "output_type": "stream",
     "text": [
      "Name: systemml\r\n",
      "Version: 0.14.0\r\n",
      "Summary: Apache SystemML is a distributed and declarative machine learning platform.\r\n",
      "Home-page: http://systemml.apache.org/\r\n",
      "Author: Apache SystemML\r\n",
      "Author-email: dev@systemml.incubator.apache.org\r\n",
      "License: Apache 2.0\r\n",
      "Location: /usr/local/src/analytic-libs/spark-2.0/python-2.7\r\n",
      "Requires: numpy, pandas, scipy\r\n"
     ]
    }
   ],
   "source": [
    "!pip show systemml"
   ]
  },
  {
   "cell_type": "markdown",
   "metadata": {},
   "source": [
    "<a id=\"matrix-multiply\"></a>\n",
    "## Matrix multiplication"
   ]
  },
  {
   "cell_type": "markdown",
   "metadata": {},
   "source": [
    "In Linear Algebra operations including operands of type Matrix or Vector, its critical from performance perspective to do operation on group of numbers simultaneously. So Matrix (or Vector) operations play a key role in Linear Algebra performance. There are multiple libraries available for Matrix operations.\n",
    "\n",
    "Apache SystemML contains many __<a href=\"http://apache.github.io/systemml/dml-language-reference.html#built-in-functions\" target=\"_blank\" rel=\"noopener noreferrer\">built-in functions</a>__ for handling linear algebra operations.  Here's a simple example showing how to create a script that generates a random matrix, multiplies the matrix with its transpose, and computes the sum of the output.  \n",
    "\n",
    "#### Matrix multiplication using Numpy of matrix size (1M x 1K)\n",
    "Following code snippet shows numpy used to do matrix multiplication of transpose of matrix to itself of matrix size (1M x 1K). As data can fit into memory, you get a result."
   ]
  },
  {
   "cell_type": "code",
   "execution_count": 2,
   "metadata": {},
   "outputs": [
    {
     "name": "stdout",
     "output_type": "stream",
     "text": [
      "250084077924.0\n"
     ]
    }
   ],
   "source": [
    "import numpy as np\n",
    "\n",
    "a = np.random.rand(10**6, 1000)\n",
    "transMult = np.matmul(a.transpose(),a)\n",
    "sum = np.sum(transMult)\n",
    "print (sum)"
   ]
  },
  {
   "cell_type": "markdown",
   "metadata": {},
   "source": [
    "#### Matrix multiplication using Numpy of matrix size (10M x 1K)\n",
    "Following code snippet shows numpy used to do matrix multiplication of transpose of matrix to itself of matrix size (10M x 1K). As data cannot fit into memory, operation gives an error."
   ]
  },
  {
   "cell_type": "code",
   "execution_count": 3,
   "metadata": {},
   "outputs": [
    {
     "ename": "MemoryError",
     "evalue": "",
     "output_type": "error",
     "traceback": [
      "\u001b[0;31m\u001b[0m",
      "\u001b[0;31mMemoryError\u001b[0mTraceback (most recent call last)",
      "\u001b[0;32m<ipython-input-3-9b5663fab7f7>\u001b[0m in \u001b[0;36m<module>\u001b[0;34m()\u001b[0m\n\u001b[1;32m      1\u001b[0m \u001b[0;32mimport\u001b[0m \u001b[0mnumpy\u001b[0m \u001b[0;32mas\u001b[0m \u001b[0mnp\u001b[0m\u001b[0;34m\u001b[0m\u001b[0m\n\u001b[1;32m      2\u001b[0m \u001b[0;34m\u001b[0m\u001b[0m\n\u001b[0;32m----> 3\u001b[0;31m \u001b[0ma\u001b[0m \u001b[0;34m=\u001b[0m \u001b[0mnp\u001b[0m\u001b[0;34m.\u001b[0m\u001b[0mrandom\u001b[0m\u001b[0;34m.\u001b[0m\u001b[0mrand\u001b[0m\u001b[0;34m(\u001b[0m\u001b[0;36m10\u001b[0m\u001b[0;34m**\u001b[0m\u001b[0;36m7\u001b[0m\u001b[0;34m,\u001b[0m \u001b[0;36m1000\u001b[0m\u001b[0;34m)\u001b[0m\u001b[0;34m\u001b[0m\u001b[0m\n\u001b[0m\u001b[1;32m      4\u001b[0m \u001b[0mtransMult\u001b[0m \u001b[0;34m=\u001b[0m \u001b[0mnp\u001b[0m\u001b[0;34m.\u001b[0m\u001b[0mmatmul\u001b[0m\u001b[0;34m(\u001b[0m\u001b[0ma\u001b[0m\u001b[0;34m.\u001b[0m\u001b[0mtranspose\u001b[0m\u001b[0;34m(\u001b[0m\u001b[0;34m)\u001b[0m\u001b[0;34m,\u001b[0m\u001b[0ma\u001b[0m\u001b[0;34m)\u001b[0m\u001b[0;34m\u001b[0m\u001b[0m\n\u001b[1;32m      5\u001b[0m \u001b[0msum\u001b[0m \u001b[0;34m=\u001b[0m \u001b[0mnp\u001b[0m\u001b[0;34m.\u001b[0m\u001b[0msum\u001b[0m\u001b[0;34m(\u001b[0m\u001b[0mtransMult\u001b[0m\u001b[0;34m)\u001b[0m\u001b[0;34m\u001b[0m\u001b[0m\n",
      "\u001b[0;32mmtrand.pyx\u001b[0m in \u001b[0;36mmtrand.RandomState.rand (numpy/random/mtrand/mtrand.c:19746)\u001b[0;34m()\u001b[0m\n",
      "\u001b[0;32mmtrand.pyx\u001b[0m in \u001b[0;36mmtrand.RandomState.random_sample (numpy/random/mtrand/mtrand.c:15541)\u001b[0;34m()\u001b[0m\n",
      "\u001b[0;32mmtrand.pyx\u001b[0m in \u001b[0;36mmtrand.cont0_array (numpy/random/mtrand/mtrand.c:6141)\u001b[0;34m()\u001b[0m\n",
      "\u001b[0;31mMemoryError\u001b[0m: "
     ]
    }
   ],
   "source": [
    "import numpy as np\n",
    "\n",
    "a = np.random.rand(10**7, 1000)\n",
    "transMult = np.matmul(a.transpose(),a)\n",
    "sum = np.sum(transMult)\n",
    "print (sum)"
   ]
  },
  {
   "cell_type": "markdown",
   "metadata": {},
   "source": [
    "#### Matrix multiplication using Apache SystemML of matrix size (10M x 1K)\n",
    "Following code snippet shows matrix multiplication of transpose of matrix to itself of matrix size (10M x 1K). Apache SystemML does not depend just on local memory but it leverages cluster environment to do any operation. An operation with same data size which cannot be run using Numpy can be done using Apache SystemML as it performs operations in distributed environment if data cannot fit onto local memory. It also demonstrates use of Apache SystemML's __<a href=\"http://apache.github.io/systemml/spark-mlcontext-programming-guide\" target=\"_blank\" rel=\"noopener noreferrer\">MLContext Application Programming Interface (API)</a>__ to execute the program."
   ]
  },
  {
   "cell_type": "code",
   "execution_count": 4,
   "metadata": {},
   "outputs": [
    {
     "name": "stdout",
     "output_type": "stream",
     "text": [
      "2.50084267337e+12\n"
     ]
    }
   ],
   "source": [
    "from systemml import MLContext, dml\n",
    "\n",
    "ml = MLContext(sc)\n",
    "\n",
    "script = \"\"\"\n",
    "    X = rand(rows=$nr, cols=1000, sparsity=1.0)\n",
    "    A = t(X) %*% X\n",
    "    s = sum(A)\n",
    "\"\"\"\n",
    "\n",
    "prog = dml(script).input('$nr', 10**7).output('s')\n",
    "s = ml.execute(prog).get('s')\n",
    "print(s)"
   ]
  },
  {
   "cell_type": "markdown",
   "metadata": {},
   "source": [
    "<a id=\"linear-regression\"></a>\n",
    "## Data generation"
   ]
  },
  {
   "cell_type": "markdown",
   "metadata": {},
   "source": [
    "Lets generate some synthetic data through script specified below and run through Apache SystemML. \n",
    "We will use same data for all use cases described in the notebook below."
   ]
  },
  {
   "cell_type": "code",
   "execution_count": 5,
   "metadata": {},
   "outputs": [],
   "source": [
    "from systemml import MLContext, dml\n",
    "\n",
    "ml = MLContext(sc)\n",
    "\n",
    "script = \"\"\"\n",
    "    numSamples = $numSamples\n",
    "    numFeatures = $numFeatures\n",
    "    sparsity = 0.5\n",
    "    maxFeatureValue = 15\n",
    "    maxWeight = 25\n",
    "    addNoise = 100\n",
    "    fmt = \"csv\"\n",
    "    trainTestRatio = 0.7\n",
    "    trainSize = trainTestRatio * numSamples\n",
    "    testSize = numSamples - trainSize\n",
    "\n",
    "    X = Rand(rows=numSamples, cols=numFeatures, min=-1, max=1, pdf=\"uniform\", seed=0, sparsity=sparsity)\n",
    "    w = Rand(rows=numFeatures, cols=1, min=-1, max=1, pdf=\"uniform\", seed=0)\n",
    "    X = X * maxFeatureValue\n",
    "    w = w * maxWeight\n",
    "    Y = X %*% w\n",
    "\n",
    "    noise = Rand(rows=numSamples, cols=1, pdf=\"normal\", seed=0)\n",
    "    Y = Y + addNoise*noise\n",
    "    \n",
    "    X_train = X[1:trainSize,]\n",
    "    X_test = X[trainSize+1:numSamples,]\n",
    "    y_train = Y[1:trainSize,]\n",
    "    y_test = Y[trainSize+1:numSamples,]\n",
    "\"\"\"\n",
    "\n",
    "prog = dml(script).input('$numSamples', 10**6).input('$numFeatures', 10).output('X_train').output('y_train').output('X_test').output('y_test')\n",
    "X_train_m, y_train_m, X_test_m, y_test_m = ml.execute(prog).get('X_train','y_train','X_test','y_test')\n",
    "X_train = X_train_m.toNumPy()\n",
    "y_train = y_train_m.toNumPy()\n",
    "X_test = X_test_m.toNumPy()\n",
    "y_test = y_test_m.toNumPy()"
   ]
  },
  {
   "cell_type": "markdown",
   "metadata": {},
   "source": [
    "<a id=\"direct-solve\"></a>\n",
    "## Linear regression direct solve\n",
    "\n",
    "This algorithm computes the least squares solution for system of linear equations A %*% w = b i.e., it finds w such that ||A%*%w – b|| is minimized, where A = X'X and b= X'y\n",
    "\n",
    "### Least squares formulation\n",
    "w* = argminw ||Xw-y||2 = argminw (y - Xw)'(y - Xw) = argminw (w'(X'X)w - w'(X'y))/2\n",
    "\n",
    "### Setting the gradient\n",
    "dw = (X'X)w - (X'y) to 0, w = (X'X)-1(X' y) = solve(X'X, X'y)"
   ]
  },
  {
   "cell_type": "markdown",
   "metadata": {},
   "source": [
    "The following cell creates and runs a script using Apache SystemML that generates a small Spark job for distributed data processing."
   ]
  },
  {
   "cell_type": "code",
   "execution_count": 6,
   "metadata": {
    "collapsed": true
   },
   "outputs": [],
   "source": [
    "from systemml import MLContext, dml\n",
    "\n",
    "ml = MLContext(sc)\n",
    "\n",
    "script = \"\"\"\n",
    "    # add constant feature to X to model intercept\n",
    "    X = cbind(X, matrix(1, rows=nrow(X), cols=1))\n",
    "    A = t(X) %*% X\n",
    "    b = t(X) %*% y\n",
    "    w = solve(A, b)\n",
    "    bias = as.scalar(w[nrow(w),1])\n",
    "    w = w[1:nrow(w)-1,]\n",
    "\"\"\"\n",
    "\n",
    "prog = dml(script).input(X=X_train, y=y_train).output('w', 'bias')\n",
    "w, bias = ml.execute(prog).get('w','bias')\n",
    "w = w.toNumPy()"
   ]
  },
  {
   "cell_type": "markdown",
   "metadata": {},
   "source": [
    "Display the results with matplotlib."
   ]
  },
  {
   "cell_type": "code",
   "execution_count": 7,
   "metadata": {},
   "outputs": [
    {
     "data": {
      "text/plain": [
       "<matplotlib.text.Text at 0x7fcf78a3f610>"
      ]
     },
     "execution_count": 7,
     "metadata": {},
     "output_type": "execute_result"
    },
    {
     "data": {
      "image/png": "[encoded data removed]",
      "text/plain": [
       "<matplotlib.figure.Figure at 0x7fcf87aa0110>"
      ]
     },
     "metadata": {},
     "output_type": "display_data"
    }
   ],
   "source": [
    "%matplotlib inline\n",
    "\n",
    "import matplotlib.pyplot as plt\n",
    "import numpy as np\n",
    "\n",
    "chosen_idx = np.random.choice(300000, replace=False, size=10000)\n",
    "plt.scatter(y_test[chosen_idx], np.matmul(X_test[chosen_idx],w)+bias,  color='blue', marker='.')\n",
    "plt.xlabel('Actual Value')\n",
    "plt.ylabel('Predicted Value')"
   ]
  },
  {
   "cell_type": "markdown",
   "metadata": {},
   "source": [
    "<a id=\"linear-regression\"></a>\n",
    "## Linear regression \"out-of-the-box\""
   ]
  },
  {
   "cell_type": "markdown",
   "metadata": {},
   "source": [
    "Apache SystemML has a large selection of __<a href=\"https://apache.github.io/systemml/algorithms-reference.html\" target=\"_blank\" rel=\"noopener noreferrer\">algorithm implementations</a>__ that can be used without modifications.  For this example, an existing algorithm will be loaded and executed. "
   ]
  },
  {
   "cell_type": "code",
   "execution_count": 8,
   "metadata": {},
   "outputs": [
    {
     "name": "stdout",
     "output_type": "stream",
     "text": [
      "[ 0.00644517]\n"
     ]
    }
   ],
   "source": [
    "from systemml import MLContext, dml, dmlFromResource\n",
    "\n",
    "ml = MLContext(sc)\n",
    "\n",
    "dml_script = dmlFromResource(\"/scripts/algorithms/LinearRegDS.dml\")\n",
    "\n",
    "prog = dml_script.input(X=X_train, y=y_train).input('$icpt',1.0).output('beta_out')\n",
    "w = ml.execute(prog).get('beta_out')\n",
    "w = w.toNumPy()\n",
    "\n",
    "bias = w[w.shape[0]-1]\n",
    "w = w[:w.shape[0]-1]\n",
    "\n",
    "print(bias)"
   ]
  },
  {
   "cell_type": "markdown",
   "metadata": {},
   "source": [
    "The results can be displayed graphically using matplotlib as shown below."
   ]
  },
  {
   "cell_type": "code",
   "execution_count": 9,
   "metadata": {},
   "outputs": [
    {
     "data": {
      "text/plain": [
       "<matplotlib.text.Text at 0x7fcf762526d0>"
      ]
     },
     "execution_count": 9,
     "metadata": {},
     "output_type": "execute_result"
    },
    {
     "data": {
      "image/png": "[encoded data removed]",
      "text/plain": [
       "<matplotlib.figure.Figure at 0x7fcf78a58590>"
      ]
     },
     "metadata": {},
     "output_type": "display_data"
    }
   ],
   "source": [
    "%matplotlib inline\n",
    "\n",
    "import matplotlib.pyplot as plt\n",
    "import numpy as np\n",
    "\n",
    "chosen_idx = np.random.choice(300000, replace=False, size=10000)\n",
    "plt.scatter(y_test[chosen_idx], np.matmul(X_test[chosen_idx],w)+bias,  color='blue', marker='.')\n",
    "plt.xlabel('Actual Value')\n",
    "plt.ylabel('Predicted Value')"
   ]
  },
  {
   "cell_type": "markdown",
   "metadata": {},
   "source": [
    "<a id=\"gradient-descent\"></a>\n",
    "## Linear regression batch gradient descent"
   ]
  },
  {
   "cell_type": "markdown",
   "metadata": {},
   "source": [
    "Gradient descent is a first-order iterative optimization algorithm for finding the minimum of a function. To find a local minimum of a function using gradient descent, one takes steps proportional to the negative of the gradient (or of the approximate gradient) of the function at the current point.\n",
    "\n",
    "#### Algorithm\n",
    "`Step 1: Start with an initial point \n",
    "while(not converged) { \n",
    "  Step 2: Compute gradient dw. \n",
    "  Step 3: Compute stepsize alpha.     \n",
    "  Step 4: Update: wnew = wold + alpha*dw \n",
    "}`\n",
    "\n",
    "#### Gradient formula\n",
    "`dw = r = (X'X)w - (X'y)`\n",
    "\n",
    "#### Step size formula\n",
    "`Find number alpha to minimize f(w + alpha*r) \n",
    "alpha = -(r'r)/(r'X'Xr)`\n"
   ]
  },
  {
   "cell_type": "markdown",
   "metadata": {},
   "source": [
    "Create and execute an Apache SystemML script that uses Spark to distribute data processing."
   ]
  },
  {
   "cell_type": "code",
   "execution_count": 10,
   "metadata": {
    "collapsed": true
   },
   "outputs": [],
   "source": [
    "from systemml import MLContext, dml\n",
    "\n",
    "ml = MLContext(sc)\n",
    "\n",
    "script = \"\"\"\n",
    "    # add constant feature to X to model intercepts\n",
    "    X = cbind(X, matrix(1, rows=nrow(X), cols=1))\n",
    "    max_iter = 100\n",
    "    w = matrix(0, rows=ncol(X), cols=1)\n",
    "    for(i in 1:max_iter){\n",
    "        XtX = t(X) %*% X\n",
    "        dw = XtX %*%w - t(X) %*% y\n",
    "        alpha = -(t(dw) %*% dw) / (t(dw) %*% XtX %*% dw)\n",
    "        w = w + dw*alpha\n",
    "    }\n",
    "    bias = as.scalar(w[nrow(w),1])\n",
    "    w = w[1:nrow(w)-1,]    \n",
    "\"\"\"\n",
    "\n",
    "prog = dml(script).input(X=X_train, y=y_train).output('w').output('bias')\n",
    "w, bias = ml.execute(prog).get('w', 'bias')\n",
    "w = w.toNumPy()\n"
   ]
  },
  {
   "cell_type": "markdown",
   "metadata": {},
   "source": [
    "Visualize the results with matplotlib."
   ]
  },
  {
   "cell_type": "code",
   "execution_count": 11,
   "metadata": {},
   "outputs": [
    {
     "data": {
      "text/plain": [
       "<matplotlib.text.Text at 0x7fcf73adf7d0>"
      ]
     },
     "execution_count": 11,
     "metadata": {},
     "output_type": "execute_result"
    },
    {
     "data": {
      "image/png": "[encoded data removed]",
      "text/plain": [
       "<matplotlib.figure.Figure at 0x7fcf76252f50>"
      ]
     },
     "metadata": {},
     "output_type": "display_data"
    }
   ],
   "source": [
    "%matplotlib inline\n",
    "\n",
    "import matplotlib.pyplot as plt\n",
    "import numpy as np\n",
    "\n",
    "chosen_idx = np.random.choice(300000, replace=False, size=10000)\n",
    "plt.scatter(y_test[chosen_idx], np.matmul(X_test[chosen_idx],w)+bias,  color='blue', marker='.')\n",
    "plt.xlabel('Actual Value')\n",
    "plt.ylabel('Predicted Value')"
   ]
  },
  {
   "cell_type": "markdown",
   "metadata": {},
   "source": [
    "<a id=\"conjugate-gradient\"></a>\n",
    "## Linear regression conjugate gradient"
   ]
  },
  {
   "cell_type": "markdown",
   "metadata": {},
   "source": [
    "A problem with gradient descent is that it takes very similar directions many times.  Modifying the original gradient descent algorithm with an additional step to enforcing conjugacy resolves this issue.\n",
    "\n",
    "`Step 1: Start with an initial point \n",
    "while(not converged) {\n",
    "   Step 2: Compute gradient dw.\n",
    "   Step 3: Compute stepsize alpha.\n",
    "   Step 4: Compute next direction p by enforcing conjugacy with previous direction.\n",
    "   Step 5: Update: w_new = w_old + alpha*p\n",
    "}`\n"
   ]
  },
  {
   "cell_type": "markdown",
   "metadata": {},
   "source": [
    "Define the algorithm in Apache SystemML's scripting language and execute the corresponding program using __<a href=\"http://apache.github.io/systemml/spark-mlcontext-programming-guide\" target=\"_blank\" rel=\"noopener noreferrer\">MLContext Application Programming Interface (API)</a>__."
   ]
  },
  {
   "cell_type": "code",
   "execution_count": 12,
   "metadata": {
    "collapsed": true
   },
   "outputs": [],
   "source": [
    "from systemml import MLContext, dml\n",
    "\n",
    "ml = MLContext(sc)\n",
    "\n",
    "script = \"\"\"\n",
    "    # add constant feature to X to model intercepts\n",
    "    X = cbind(X, matrix(1, rows=nrow(X), cols=1))\n",
    "    m = ncol(X); i = 1; \n",
    "    max_iter = 20;\n",
    "    w = matrix (0, rows = m, cols = 1); # initialize weights to 0\n",
    "    dw = - t(X) %*% y; p = - dw;        # dw = (X'X)w - (X'y)\n",
    "    norm_r2 = sum (dw ^ 2); \n",
    "    for(i in 1:max_iter) {\n",
    "        q = t(X) %*% (X %*% p)\n",
    "        alpha = norm_r2 / sum (p * q);  # Minimizes f(w - alpha*r)\n",
    "        w = w + alpha * p;              # update weights\n",
    "        dw = dw + alpha * q;           \n",
    "        old_norm_r2 = norm_r2; norm_r2 = sum (dw ^ 2);\n",
    "        p = -dw + (norm_r2 / old_norm_r2) * p; # next direction - conjugacy to previous direction\n",
    "        i = i + 1;\n",
    "    }\n",
    "    bias = as.scalar(w[nrow(w),1])\n",
    "    w = w[1:nrow(w)-1,]    \n",
    "\"\"\"\n",
    "\n",
    "prog = dml(script).input(X=X_train, y=y_train).output('w').output('bias')\n",
    "w, bias = ml.execute(prog).get('w','bias')\n",
    "w = w.toNumPy()\n"
   ]
  },
  {
   "cell_type": "code",
   "execution_count": 13,
   "metadata": {},
   "outputs": [
    {
     "data": {
      "text/plain": [
       "<matplotlib.text.Text at 0x7fcf739ff950>"
      ]
     },
     "execution_count": 13,
     "metadata": {},
     "output_type": "execute_result"
    },
    {
     "data": {
      "image/png": "[encoded data removed]",
      "text/plain": [
       "<matplotlib.figure.Figure at 0x7fcf762ad0d0>"
      ]
     },
     "metadata": {},
     "output_type": "display_data"
    }
   ],
   "source": [
    "%matplotlib inline\n",
    "\n",
    "import matplotlib.pyplot as plt\n",
    "import numpy as np\n",
    "\n",
    "chosen_idx = np.random.choice(300000, replace=False, size=10000)\n",
    "plt.scatter(y_test[chosen_idx], np.matmul(X_test[chosen_idx],w)+bias,  color='blue', marker='.')\n",
    "plt.xlabel('Actual Value')\n",
    "plt.ylabel('Predicted Value')"
   ]
  },
  {
   "cell_type": "markdown",
   "metadata": {},
   "source": [
    "<a id=\"linear-regression-api\"></a>\n",
    "## Linear regression using mllearn interface"
   ]
  },
  {
   "cell_type": "markdown",
   "metadata": {},
   "source": [
    "Python developers can use the __<a href=\"https://apache.github.io/systemml/python-reference#mllearn-api\" target=\"_blank\" rel=\"noopener noreferrer\">mllearn interface</a>__ from Apache SystemML to invoke algorithms with scikit-learn. You will notice that this mllearn interface from Apache SystemML is similar to scikit-learn interface."
   ]
  },
  {
   "cell_type": "markdown",
   "metadata": {},
   "source": [
    "The next cell runs __<a href=\"https://apache.github.io/systemml/algorithms-regression.html#linear-regression\" target=\"_blank\" rel=\"noopener noreferrer\">Linear Regression</a>__ against the sample data taking approximately sixteen Spark jobs to complete processing.  Since the number of features in the sample dataset is small, Linear Regression Direct Solve is used with `solver='direct-solve'`.  To switch to Linear Regression Conjugate Gradient, specify `solver='newton-cg'`."
   ]
  },
  {
   "cell_type": "markdown",
   "metadata": {},
   "source": [
    "### Apache SystemML code to do linear regression using mllearn interface"
   ]
  },
  {
   "cell_type": "code",
   "execution_count": 14,
   "metadata": {},
   "outputs": [],
   "source": [
    "from systemml.mllearn import LinearRegression\n",
    "\n",
    "# Create Linear Regression object through sklearn\n",
    "regr = LinearRegression(spark, solver='direct-solve', transferUsingDF=True)\n",
    "\n",
    "# Train the model using the training sets through sklearn\n",
    "regr.fit(X_train, y_train)\n",
    "\n",
    "# Make predictions using the testing set through sklearn\n",
    "mllearn_predicted = regr.predict(X_test)"
   ]
  },
  {
   "cell_type": "markdown",
   "metadata": {},
   "source": [
    "Utilities from sklearn can be used to (R^2) score the results as shown below."
   ]
  },
  {
   "cell_type": "code",
   "execution_count": 15,
   "metadata": {},
   "outputs": [
    {
     "name": "stdout",
     "output_type": "stream",
     "text": [
      "Linear Regression score: 1.000000\n"
     ]
    }
   ],
   "source": [
    "from sklearn import linear_model\n",
    "from sklearn.metrics import r2_score\n",
    "\n",
    "# Create Linear Regression object through scikit-learn\n",
    "sklearn_regr = linear_model.LinearRegression()\n",
    "\n",
    "# Train the model using the training sets through scikit-learn\n",
    "sklearn_regr.fit(X_train, y_train)\n",
    "\n",
    "# Make predictions using the testing set through scikit-learn\n",
    "sklearn_predicted = sklearn_regr.predict(X_test)\n",
    "\n",
    "# Calculate R^2 score  using sklearn by passing predictions obtained through mllearn and scikit-learn\n",
    "score = r2_score(sklearn_predicted, mllearn_predicted)\n",
    "print('Linear Regression score: %f' % score)"
   ]
  },
  {
   "cell_type": "markdown",
   "metadata": {},
   "source": [
    "<a id=\"summary\"></a>\n",
    "## Learn more"
   ]
  },
  {
   "cell_type": "markdown",
   "metadata": {
    "collapsed": true
   },
   "source": [
    "Visit __<a href=\"http://systemml.apache.org/\" target=\"_blank\" rel=\"noopener noreferrer\">Apache SystemML</a>__ for additional examples and documentation.  For questions or requests for more information, please use the __<a href=\"http://apache.github.io/systemml/contributing-to-systemml#development-mailing-list\" target=\"_blank\" rel=\"noopener noreferrer\">development mailing list</a>__.  To get involved, see __<a href=\"http://apache.github.io/systemml/contributing-to-systemml\" target=\"_blank\" rel=\"noopener noreferrer\">contributing to Apache SystemML</a>__ for details."
   ]
  },
  {
   "cell_type": "markdown",
   "metadata": {},
   "source": [
    "<a id=\"authors\"></a>\n",
    "### Authors"
   ]
  },
  {
   "cell_type": "markdown",
   "metadata": {},
   "source": [
    "This notebook is built upon __<a href=\"https://github.com/apache/systemml/graphs/contributors\" target=\"_blank\" rel=\"noopener noreferrer\">contributions from developers</a>__ of Apache SystemML.  **Arvind Surve** is an architect at IBM in San Jose, California.  He has been an active committer for Apache SystemML since it was initially contributed to open source and has written a __<a href=\"http://www.spark.tc/tutorial-declarative-ml/\" target=\"_blank\" rel=\"noopener noreferrer\">Declarative Machine Learning Tutorial</a>__ with Apache SystemML.  **Glenn Weidner** is a software developer at IBM in San Francisco, California.  He's a member of the __<a href=\"http://www.spark.tc/\" target=\"_blank\" rel=\"noopener noreferrer\">Spark Technology Center</a>__ and also a committer for Apache SystemML."
   ]
  },
  {
   "cell_type": "markdown",
   "metadata": {
    "collapsed": true
   },
   "source": [
    "<hr>\n",
    "Copyright &copy; IBM Corp. 2017. This notebook and its source code are released under the terms of the MIT License."
   ]
  }
 ],
 "metadata": {
  "kernelspec": {
   "display_name": "Python 2 with Spark 2.1",
   "language": "python",
   "name": "python2-spark21"
  },
  "language_info": {
   "codemirror_mode": {
    "name": "ipython",
    "version": 2
   },
   "file_extension": ".py",
   "mimetype": "text/x-python",
   "name": "python",
   "nbconvert_exporter": "python",
   "pygments_lexer": "ipython2",
   "version": "2.7.11"
  }
 },
 "nbformat": 4,
 "nbformat_minor": 1
}
